{
 "cells": [
  {
   "cell_type": "markdown",
   "metadata": {},
   "source": [
    "# Touch Detection Prototyping"
   ]
  },
  {
   "cell_type": "markdown",
   "metadata": {},
   "source": [
    "## Goals and Requirements\n",
    "\n",
    "### Input\n",
    "\n",
    "The raw touch input is provided as capacitive heatmap.\n",
    "The resolution of this heatmap is significantly lower than the resolution of the actual screen, which in turn may be lower than the final resolution in which the processed touch point descriptions should be provided.\n",
    "The input is likely noisy, thus additional precautions may be necessary.\n",
    "\n",
    "### Output\n",
    "\n",
    "This project is mainly intended to provide a robust algorithm for use in a Linux kernel module.\n",
    "In the Linux kernel, touch points can be described via an ellipse representing the contact point.\n",
    "(Note: We will for now neglect the appropriate scaling of coordinates to output dimensions.)\n",
    "Thus the provided output for some touch point $i$ is $t_i = (c_i, \\theta_i, h_i, w_i)$ with\n",
    "\n",
    "- $c_i \\in \\mathbb{R}^{2}$ as the center of the contact point,\n",
    "- $h_i \\in \\mathbb{R}$ as the height of the ellipse, i.e. its size along its major axis,\n",
    "- $w_i \\in \\mathbb{R}$ as the width of the ellipse, i.e. its size along its minor axis (note that the axes are orthogonal), and\n",
    "- $\\theta_i \\in [0,2\\pi]$ as the angle of the major axis of the ellipse.\n",
    "\n",
    "In addition, proper handling of touch points requires tracking of the contact points across consecutive input data frames.\n",
    "This can be seen as a separate problem ontop of the contact point identification and will be discussed later."
   ]
  },
  {
   "cell_type": "code",
   "execution_count": null,
   "metadata": {},
   "outputs": [],
   "source": []
  }
 ],
 "metadata": {
  "kernelspec": {
   "display_name": "Python 3",
   "language": "python",
   "name": "python3"
  },
  "language_info": {
   "codemirror_mode": {
    "name": "ipython",
    "version": 3
   },
   "file_extension": ".py",
   "mimetype": "text/x-python",
   "name": "python",
   "nbconvert_exporter": "python",
   "pygments_lexer": "ipython3",
   "version": "3.8.2"
  }
 },
 "nbformat": 4,
 "nbformat_minor": 2
}
